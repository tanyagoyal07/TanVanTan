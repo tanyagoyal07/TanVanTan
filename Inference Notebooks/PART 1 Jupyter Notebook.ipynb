{
 "cells": [
  {
   "cell_type": "markdown",
   "id": "65c92649",
   "metadata": {},
   "source": [
    "# Installation to load model"
   ]
  },
  {
   "cell_type": "code",
   "execution_count": null,
   "id": "6c7b066e",
   "metadata": {},
   "outputs": [],
   "source": [
    "!pip install h5py"
   ]
  },
  {
   "cell_type": "code",
   "execution_count": null,
   "id": "4c2196e0",
   "metadata": {},
   "outputs": [],
   "source": [
    "from tensorflow import keras\n",
    "import csv\n",
    "import numpy as np\n",
    "from tensorflow.keras.preprocessing import image\n",
    "from keras.preprocessing.image import ImageDataGenerator, img_to_array, load_img \n",
    "model = keras.models.load_model(r'directory\\where\\model\\is\\saved\\Part1.h5')"
   ]
  },
  {
   "cell_type": "markdown",
   "id": "72477772",
   "metadata": {},
   "source": [
    "# Predict Function"
   ]
  },
  {
   "cell_type": "code",
   "execution_count": null,
   "id": "50c904e0",
   "metadata": {},
   "outputs": [],
   "source": [
    "def predictImage(filename):\n",
    "    img1 = image.load_img(filename,target_size=(150,150))\n",
    "    Y = image.img_to_array(img1)  \n",
    "    X = np.expand_dims(Y,axis=0)\n",
    "    val = model.predict(X)\n",
    "    d = {'Name': 'Empty' , 'Label': 'Empty'}\n",
    "    d = dict(); \n",
    "    with open('Part1.csv', 'a') as csvfile:\n",
    "        if val[0][0] == 1:\n",
    "            d['Name'] = filename\n",
    "            d['Label'] = \"infix\"\n",
    "        elif val[0][1] == 1:\n",
    "            d['Name'] = filename\n",
    "            d['Label'] = \"postfix\"\n",
    "        else:\n",
    "            d['Name'] = filename\n",
    "            d['Label'] = \"prefix\"\n",
    "        writer = csv.writer(csvfile)\n",
    "        for key, value in d.items():\n",
    "            writer.writerow([key, value])\n"
   ]
  },
  {
   "cell_type": "code",
   "execution_count": null,
   "id": "9315a0c1",
   "metadata": {},
   "outputs": [],
   "source": [
    "def predictImage('name_of_image.jpg')"
   ]
  }
 ],
 "metadata": {
  "kernelspec": {
   "display_name": "Python 3",
   "language": "python",
   "name": "python3"
  },
  "language_info": {
   "codemirror_mode": {
    "name": "ipython",
    "version": 3
   },
   "file_extension": ".py",
   "mimetype": "text/x-python",
   "name": "python",
   "nbconvert_exporter": "python",
   "pygments_lexer": "ipython3",
   "version": "3.8.8"
  }
 },
 "nbformat": 4,
 "nbformat_minor": 5
}
