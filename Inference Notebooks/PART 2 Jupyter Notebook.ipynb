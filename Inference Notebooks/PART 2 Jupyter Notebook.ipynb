{
 "cells": [
  {
   "cell_type": "markdown",
   "id": "578f98bb",
   "metadata": {},
   "source": [
    "# Import Libraries"
   ]
  },
  {
   "cell_type": "code",
   "execution_count": null,
   "id": "77032de3",
   "metadata": {},
   "outputs": [],
   "source": [
    "from tensorflow import keras\n",
    "from PIL import Image\n",
    "from numpy import array\n",
    "import cv2\n",
    "from tensorflow.keras.preprocessing import image\n",
    "from keras.preprocessing.image import ImageDataGenerator, img_to_array, load_img \n",
    "import matplotlib.pyplot as plt\n",
    "import os"
   ]
  },
  {
   "cell_type": "markdown",
   "id": "ee6a7375",
   "metadata": {},
   "source": [
    "# Import Model"
   ]
  },
  {
   "cell_type": "code",
   "execution_count": null,
   "id": "a6384a18",
   "metadata": {},
   "outputs": [],
   "source": [
    "model = keras.models.load_model(r'directory\\where\\model\\is\\saved\\Part2.h5')"
   ]
  },
  {
   "cell_type": "markdown",
   "id": "db2ddd03",
   "metadata": {},
   "source": [
    "# Predict Image Function"
   ]
  },
  {
   "cell_type": "code",
   "execution_count": null,
   "id": "d44d5572",
   "metadata": {},
   "outputs": [],
   "source": [
    "def predictImage(filename):\n",
    "    image_path=filename\n",
    "    img = image.load_img(filename, target_size=(150,150))\n",
    "    plt.imshow(img)\n",
    "    img = np.expand_dims(img, axis=0)\n",
    "    result=model.predict_classes(img)\n",
    "    return(result)"
   ]
  },
  {
   "cell_type": "markdown",
   "id": "0f2fda99",
   "metadata": {},
   "source": [
    "# Final Predict - Returns recognised image as a list"
   ]
  },
  {
   "cell_type": "code",
   "execution_count": null,
   "id": "202e2edf",
   "metadata": {},
   "outputs": [],
   "source": [
    "def finalpredict(img):\n",
    "    list=[]\n",
    "    x=0\n",
    "    y=150\n",
    "    img = Image.open(img)\n",
    "    np_img = array(img)\n",
    "    for i in range(0,3):\n",
    "        input1=np_img[:,x:y]\n",
    "        x+=150\n",
    "        y+=150\n",
    "        img1 = Image.fromarray(input1)\n",
    "        img1.save(\"img1.jpg\")\n",
    "        list.append(predictImage('img1.jpg'))\n",
    "    return(list) "
   ]
  },
  {
   "cell_type": "markdown",
   "id": "82ade81f",
   "metadata": {},
   "source": [
    "# Evaluate function : Returns the evaluated value of expression"
   ]
  },
  {
   "cell_type": "code",
   "execution_count": null,
   "id": "b3846873",
   "metadata": {},
   "outputs": [],
   "source": [
    "def evaluate(list):\n",
    "    if list[0]!= '+' and list[0]!='-'and list[0]!='/' and list[0]!='*':\n",
    "        if list[1] != '+' and list[1] !='-'and list[1] !='/'and list[1] !='*':\n",
    "            if list[2]== '+':\n",
    "                return(int(list[0])+int(list[1]))\n",
    "            elif list[2]== '-':\n",
    "                return(int(list[0])-int(list[1]))\n",
    "            elif list[2]== '*':\n",
    "                return(int(list[0])*int(list[1]))\n",
    "            else:\n",
    "                return(int(list[0])/int(list[1]))                \n",
    "\n",
    "        else:\n",
    "            if list[1]== '+':\n",
    "                return(int(list[0])+int(list[2]))\n",
    "            elif list[1]== '-':\n",
    "                return(int(list[0])-int(list[2]))\n",
    "            elif list[1]== '*':\n",
    "                return(int(list[0])*int(list[2]))\n",
    "            else:\n",
    "                return(int(list[0])/int(list[2]))\n",
    "\n",
    "    else:\n",
    "        if list[0]== '+':\n",
    "            return(int(list[1])+int(list[2]))\n",
    "        elif list[0]== '-':\n",
    "            return(int(list[1])-int(list[2]))\n",
    "        elif list[0]== '*':\n",
    "            return(int(list[1])*int(list[2]))\n",
    "        else:\n",
    "            return(int(list[1])/int(list[2]))"
   ]
  }
 ],
 "metadata": {
  "kernelspec": {
   "display_name": "Python 3",
   "language": "python",
   "name": "python3"
  },
  "language_info": {
   "codemirror_mode": {
    "name": "ipython",
    "version": 3
   },
   "file_extension": ".py",
   "mimetype": "text/x-python",
   "name": "python",
   "nbconvert_exporter": "python",
   "pygments_lexer": "ipython3",
   "version": "3.8.8"
  }
 },
 "nbformat": 4,
 "nbformat_minor": 5
}
