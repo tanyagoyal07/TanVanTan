{
 "cells": [
  {
   "cell_type": "markdown",
   "id": "4bb9a017",
   "metadata": {},
   "source": [
    "# Importing the libraries"
   ]
  },
  {
   "cell_type": "code",
   "execution_count": null,
   "id": "842e5213",
   "metadata": {},
   "outputs": [],
   "source": [
    "import numpy as np\n",
    "import tensorflow as tf\n",
    "from tensorflow import keras\n",
    "from tensorflow.keras.preprocessing import image\n",
    "import matplotlib.pyplot as plt\n",
    "from keras.models import Model\n",
    "from keras.models import Sequential\n",
    "from tensorflow.keras import layers\n",
    "from keras.layers import Input\n",
    "from keras.layers import Dropout, Flatten, Dense\n",
    "from keras.layers.convolutional import Conv2D\n",
    "from keras.layers.convolutional import MaxPooling2D\n",
    "from keras.utils import np_utils\n",
    "from keras.utils.np_utils import to_categorical\n",
    "from keras.preprocessing.image import ImageDataGenerator, img_to_array, load_img "
   ]
  },
  {
   "cell_type": "markdown",
   "id": "328f009c",
   "metadata": {},
   "source": [
    "# Rescaling the images to create training and testing datasets"
   ]
  },
  {
   "cell_type": "code",
   "execution_count": null,
   "id": "d573ca1f",
   "metadata": {},
   "outputs": [],
   "source": [
    "train = ImageDataGenerator(rescale=1/255)\n",
    "test = ImageDataGenerator(rescale=1/255)"
   ]
  },
  {
   "cell_type": "code",
   "execution_count": null,
   "id": "6ce77066",
   "metadata": {},
   "outputs": [],
   "source": [
    "train_dataset = train.flow_from_directory(r'C:\\Users\\DEEPALI\\Desktop\\Hackathon\\Training',\n",
    "                                          target_size=(150,150),\n",
    "                                          batch_size = 32, class_mode='categorical')\n",
    "test_dataset = test.flow_from_directory(r\"C:\\Users\\DEEPALI\\Desktop\\Hackathon\\Testing\",\n",
    "                                          target_size=(150,150),\n",
    "                                          batch_size =32, class_mode='categorical')"
   ]
  },
  {
   "cell_type": "markdown",
   "id": "d5d56ae3",
   "metadata": {},
   "source": [
    "# Defining the model"
   ]
  },
  {
   "cell_type": "code",
   "execution_count": null,
   "id": "b0582011",
   "metadata": {},
   "outputs": [],
   "source": [
    "model = Sequential([\n",
    "    Conv2D(16, (3, 3), activation='relu', input_shape=(150, 150, 3)), MaxPooling2D(2, 2),\n",
    "    Conv2D(32, (3, 3), activation='relu'), MaxPooling2D(2, 2),\n",
    "    Conv2D(64, (3, 3), activation='relu'),\n",
    "    Conv2D(64, (3, 3), activation='relu'),\n",
    "    MaxPooling2D(2, 2),\n",
    "    Flatten(),\n",
    "    Dense(512, activation='relu'),\n",
    "    Dense(3, activation='softmax')\n",
    "])\n",
    "model.summary()"
   ]
  },
  {
   "cell_type": "code",
   "execution_count": null,
   "id": "81d44a4c",
   "metadata": {},
   "outputs": [],
   "source": [
    "model.compile(optimizer='adam',loss='categorical_crossentropy',metrics=['accuracy'])"
   ]
  },
  {
   "cell_type": "code",
   "execution_count": null,
   "id": "5b983f0e",
   "metadata": {},
   "outputs": [],
   "source": [
    "model.fit_generator(train_dataset,\n",
    "         steps_per_epoch = 250,\n",
    "         epochs = 10,\n",
    "         validation_data = test_dataset)"
   ]
  }
 ],
 "metadata": {
  "kernelspec": {
   "display_name": "Python 3",
   "language": "python",
   "name": "python3"
  },
  "language_info": {
   "codemirror_mode": {
    "name": "ipython",
    "version": 3
   },
   "file_extension": ".py",
   "mimetype": "text/x-python",
   "name": "python",
   "nbconvert_exporter": "python",
   "pygments_lexer": "ipython3",
   "version": "3.8.8"
  }
 },
 "nbformat": 4,
 "nbformat_minor": 5
}
